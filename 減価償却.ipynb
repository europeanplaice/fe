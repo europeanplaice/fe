{
 "cells": [
  {
   "cell_type": "markdown",
   "id": "f3ac86e3-695d-4e0d-a15c-806f36be6830",
   "metadata": {},
   "source": [
    "# 資産管理"
   ]
  },
  {
   "cell_type": "markdown",
   "metadata": {},
   "source": [
    "下記のような仕入売上データがあるとする。"
   ]
  },
  {
   "cell_type": "code",
   "execution_count": 14,
   "id": "0dc0d4be-08e5-4da0-8db9-f0b21f2f8131",
   "metadata": {},
   "outputs": [
    {
     "data": {
      "text/html": [
       "<div>\n",
       "<style scoped>\n",
       "    .dataframe tbody tr th:only-of-type {\n",
       "        vertical-align: middle;\n",
       "    }\n",
       "\n",
       "    .dataframe tbody tr th {\n",
       "        vertical-align: top;\n",
       "    }\n",
       "\n",
       "    .dataframe thead th {\n",
       "        text-align: right;\n",
       "    }\n",
       "</style>\n",
       "<table border=\"1\" class=\"dataframe\">\n",
       "  <thead>\n",
       "    <tr style=\"text-align: right;\">\n",
       "      <th></th>\n",
       "      <th>date</th>\n",
       "      <th>内容</th>\n",
       "      <th>数量</th>\n",
       "      <th>単価</th>\n",
       "    </tr>\n",
       "  </thead>\n",
       "  <tbody>\n",
       "    <tr>\n",
       "      <th>0</th>\n",
       "      <td>1日</td>\n",
       "      <td>前月繰越</td>\n",
       "      <td>100</td>\n",
       "      <td>10.0</td>\n",
       "    </tr>\n",
       "    <tr>\n",
       "      <th>1</th>\n",
       "      <td>9日</td>\n",
       "      <td>仕入</td>\n",
       "      <td>150</td>\n",
       "      <td>11.0</td>\n",
       "    </tr>\n",
       "    <tr>\n",
       "      <th>2</th>\n",
       "      <td>12日</td>\n",
       "      <td>売上</td>\n",
       "      <td>200</td>\n",
       "      <td>NaN</td>\n",
       "    </tr>\n",
       "    <tr>\n",
       "      <th>3</th>\n",
       "      <td>23日</td>\n",
       "      <td>仕入</td>\n",
       "      <td>150</td>\n",
       "      <td>12.0</td>\n",
       "    </tr>\n",
       "    <tr>\n",
       "      <th>4</th>\n",
       "      <td>26日</td>\n",
       "      <td>売上</td>\n",
       "      <td>100</td>\n",
       "      <td>NaN</td>\n",
       "    </tr>\n",
       "    <tr>\n",
       "      <th>5</th>\n",
       "      <td>31日</td>\n",
       "      <td>次月繰越</td>\n",
       "      <td>100</td>\n",
       "      <td>NaN</td>\n",
       "    </tr>\n",
       "  </tbody>\n",
       "</table>\n",
       "</div>"
      ],
      "text/plain": [
       "  date    内容   数量    単価\n",
       "0   1日  前月繰越  100  10.0\n",
       "1   9日    仕入  150  11.0\n",
       "2  12日    売上  200   NaN\n",
       "3  23日    仕入  150  12.0\n",
       "4  26日    売上  100   NaN\n",
       "5  31日  次月繰越  100   NaN"
      ]
     },
     "execution_count": 14,
     "metadata": {},
     "output_type": "execute_result"
    }
   ],
   "source": [
    "import pandas as pd\n",
    "data = {\n",
    "    \"date\": [f\"{i}日\" for i in [1, 9, 12, 23, 26, 31]],\n",
    "    \"内容\": [\"前月繰越\", \"仕入\", \"売上\", \"仕入\", \"売上\", \"次月繰越\"],\n",
    "    \"数量\": [100, 150, 200, 150, 100, 100],\n",
    "    \"単価\": [10, 11, None, 12, None, None]\n",
    "}\n",
    "df = pd.DataFrame(data)\n",
    "df"
   ]
  },
  {
   "cell_type": "markdown",
   "id": "a21d0552-4939-4885-9c3e-478ba75b8b6a",
   "metadata": {},
   "source": [
    "## 先入先出法\n",
    "売り上げがあった時点で先に仕入れたものから引き出して販売する方法"
   ]
  },
  {
   "cell_type": "markdown",
   "metadata": {},
   "source": [
    "上記データにおいて、売上と引き当て情報をまとめると以下となる。"
   ]
  },
  {
   "cell_type": "code",
   "execution_count": 15,
   "metadata": {},
   "outputs": [
    {
     "data": {
      "text/html": [
       "<div>\n",
       "<style scoped>\n",
       "    .dataframe tbody tr th:only-of-type {\n",
       "        vertical-align: middle;\n",
       "    }\n",
       "\n",
       "    .dataframe tbody tr th {\n",
       "        vertical-align: top;\n",
       "    }\n",
       "\n",
       "    .dataframe thead th {\n",
       "        text-align: right;\n",
       "    }\n",
       "</style>\n",
       "<table border=\"1\" class=\"dataframe\">\n",
       "  <thead>\n",
       "    <tr style=\"text-align: right;\">\n",
       "      <th></th>\n",
       "      <th>date</th>\n",
       "      <th>売上数量</th>\n",
       "      <th>引当</th>\n",
       "      <th>引当個数</th>\n",
       "      <th>単価</th>\n",
       "    </tr>\n",
       "  </thead>\n",
       "  <tbody>\n",
       "    <tr>\n",
       "      <th>0</th>\n",
       "      <td>12日</td>\n",
       "      <td>100</td>\n",
       "      <td>前月繰越</td>\n",
       "      <td>100</td>\n",
       "      <td>10</td>\n",
       "    </tr>\n",
       "    <tr>\n",
       "      <th>1</th>\n",
       "      <td>12日</td>\n",
       "      <td>100</td>\n",
       "      <td>9日仕入</td>\n",
       "      <td>100</td>\n",
       "      <td>11</td>\n",
       "    </tr>\n",
       "    <tr>\n",
       "      <th>2</th>\n",
       "      <td>26日</td>\n",
       "      <td>50</td>\n",
       "      <td>9日仕入</td>\n",
       "      <td>50</td>\n",
       "      <td>11</td>\n",
       "    </tr>\n",
       "    <tr>\n",
       "      <th>3</th>\n",
       "      <td>26日</td>\n",
       "      <td>50</td>\n",
       "      <td>23日仕入</td>\n",
       "      <td>50</td>\n",
       "      <td>12</td>\n",
       "    </tr>\n",
       "  </tbody>\n",
       "</table>\n",
       "</div>"
      ],
      "text/plain": [
       "  date  売上数量     引当  引当個数  単価\n",
       "0  12日   100   前月繰越   100  10\n",
       "1  12日   100   9日仕入   100  11\n",
       "2  26日    50   9日仕入    50  11\n",
       "3  26日    50  23日仕入    50  12"
      ]
     },
     "execution_count": 15,
     "metadata": {},
     "output_type": "execute_result"
    }
   ],
   "source": [
    "import pandas as pd\n",
    "sales = {\n",
    "    \"date\": [f\"{i}日\" for i in [12, 12, 26, 26]],\n",
    "    \"売上数量\": [100, 100, 50, 50],\n",
    "    \"引当\": [\"前月繰越\", \"9日仕入\", \"9日仕入\", \"23日仕入\"],\n",
    "    \"引当個数\": [100, 100, 50, 50],\n",
    "    \"単価\": [10, 11, 11, 12]\n",
    "}\n",
    "salesdf = pd.DataFrame(sales)\n",
    "salesdf"
   ]
  },
  {
   "cell_type": "markdown",
   "metadata": {},
   "source": [
    "この場合、売上原価と期末棚卸高は次のようになる"
   ]
  },
  {
   "cell_type": "code",
   "execution_count": 17,
   "metadata": {},
   "outputs": [
    {
     "data": {
      "text/plain": [
       "(3250, 1200)"
      ]
     },
     "execution_count": 17,
     "metadata": {},
     "output_type": "execute_result"
    }
   ],
   "source": [
    "売上原価 = sum([q * p for q, p in zip(salesdf[\"引当個数\"], salesdf[\"単価\"])])\n",
    "期末棚卸高 = 100 * 12 # 23日入荷分(仕入れ単価12)のうち100が残り、期末棚卸高となる。\n",
    "売上原価, 期末棚卸高"
   ]
  },
  {
   "cell_type": "markdown",
   "metadata": {},
   "source": [
    "## 後入先出法\n",
    "売上があった時点の直前に仕入れたものから引き出して販売"
   ]
  },
  {
   "cell_type": "code",
   "execution_count": 19,
   "metadata": {},
   "outputs": [
    {
     "data": {
      "text/html": [
       "<div>\n",
       "<style scoped>\n",
       "    .dataframe tbody tr th:only-of-type {\n",
       "        vertical-align: middle;\n",
       "    }\n",
       "\n",
       "    .dataframe tbody tr th {\n",
       "        vertical-align: top;\n",
       "    }\n",
       "\n",
       "    .dataframe thead th {\n",
       "        text-align: right;\n",
       "    }\n",
       "</style>\n",
       "<table border=\"1\" class=\"dataframe\">\n",
       "  <thead>\n",
       "    <tr style=\"text-align: right;\">\n",
       "      <th></th>\n",
       "      <th>date</th>\n",
       "      <th>売上数量</th>\n",
       "      <th>引当</th>\n",
       "      <th>引当個数</th>\n",
       "      <th>単価</th>\n",
       "    </tr>\n",
       "  </thead>\n",
       "  <tbody>\n",
       "    <tr>\n",
       "      <th>0</th>\n",
       "      <td>12日</td>\n",
       "      <td>150</td>\n",
       "      <td>9日仕入</td>\n",
       "      <td>150</td>\n",
       "      <td>11</td>\n",
       "    </tr>\n",
       "    <tr>\n",
       "      <th>1</th>\n",
       "      <td>12日</td>\n",
       "      <td>50</td>\n",
       "      <td>前月繰越</td>\n",
       "      <td>50</td>\n",
       "      <td>10</td>\n",
       "    </tr>\n",
       "    <tr>\n",
       "      <th>2</th>\n",
       "      <td>26日</td>\n",
       "      <td>100</td>\n",
       "      <td>23日仕入</td>\n",
       "      <td>100</td>\n",
       "      <td>12</td>\n",
       "    </tr>\n",
       "  </tbody>\n",
       "</table>\n",
       "</div>"
      ],
      "text/plain": [
       "  date  売上数量     引当  引当個数  単価\n",
       "0  12日   150   9日仕入   150  11\n",
       "1  12日    50   前月繰越    50  10\n",
       "2  26日   100  23日仕入   100  12"
      ]
     },
     "execution_count": 19,
     "metadata": {},
     "output_type": "execute_result"
    }
   ],
   "source": [
    "import pandas as pd\n",
    "sales = {\n",
    "    \"date\": [f\"{i}日\" for i in [12, 12, 26]],\n",
    "    \"売上数量\": [150, 50, 100],\n",
    "    \"引当\": [\"9日仕入\", \"前月繰越\", \"23日仕入\"],\n",
    "    \"引当個数\": [150, 50, 100],\n",
    "    \"単価\": [11, 10, 12]\n",
    "}\n",
    "salesdf2 = pd.DataFrame(sales)\n",
    "salesdf2"
   ]
  },
  {
   "cell_type": "code",
   "execution_count": 21,
   "metadata": {},
   "outputs": [
    {
     "data": {
      "text/plain": [
       "(3350, 1100)"
      ]
     },
     "execution_count": 21,
     "metadata": {},
     "output_type": "execute_result"
    }
   ],
   "source": [
    "売上原価 = sum([q * p for q, p in zip(salesdf2[\"引当個数\"], salesdf2[\"単価\"])])\n",
    "期末棚卸高 = 50 * 10 + 50 * 12 # 前月繰越分50個, 23日仕入分50個\n",
    "売上原価, 期末棚卸高"
   ]
  },
  {
   "cell_type": "code",
   "execution_count": null,
   "metadata": {},
   "outputs": [],
   "source": []
  }
 ],
 "metadata": {
  "kernelspec": {
   "display_name": "Python 3 (ipykernel)",
   "language": "python",
   "name": "python3"
  },
  "language_info": {
   "codemirror_mode": {
    "name": "ipython",
    "version": 3
   },
   "file_extension": ".py",
   "mimetype": "text/x-python",
   "name": "python",
   "nbconvert_exporter": "python",
   "pygments_lexer": "ipython3",
   "version": "3.11.2"
  }
 },
 "nbformat": 4,
 "nbformat_minor": 5
}
